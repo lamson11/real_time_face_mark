{
 "cells": [
  {
   "cell_type": "code",
   "execution_count": 1,
   "metadata": {},
   "outputs": [],
   "source": [
    "import cv2\n",
    "import numpy as np\n",
    "from datetime import datetime"
   ]
  },
  {
   "cell_type": "code",
   "execution_count": null,
   "metadata": {},
   "outputs": [],
   "source": [
    "## old: config begin\n",
    "modelcfg=\"cfg/yolov4.cfg\"\n",
    "weight=\"Model/yolov4-custom_best.weights\"\n",
    "net=cv2.dnn.readNetFromDarknet(modelcfg,weight)\n",
    "layer_names = net.getLayerNames()\n",
    "output_layers = [layer_names[i - 1] for i in net.getUnconnectedOutLayers()]\n",
    "classes = None\n",
    "classes_file = \"data/obj.names\"\n",
    "with open(classes_file, 'r') as f:\n",
    "    classes = [line.strip() for line in f.readlines()]\n",
    "    \n",
    "## Green or red\n",
    "colors=[(0, 255, 0),(0, 0, 255)]"
   ]
  },
  {
   "cell_type": "code",
   "execution_count": null,
   "metadata": {},
   "outputs": [],
   "source": [
    "img=\"../image/demo.png\"\n",
    "# img=\"static/demo.png\"\n",
    "image=cv2.imread(img)\n",
    "(iH, iW) = image.shape[:2]\n",
    "classes, scores, boxes = model.detect(image, 0.5, 0.4)"
   ]
  },
  {
   "cell_type": "code",
   "execution_count": null,
   "metadata": {},
   "outputs": [],
   "source": [
    "img=\"static/1.png\"\n",
    "# img=\"static/demo.png\"\n",
    "image=cv2.imread(img)\n",
    "(iH, iW) = image.shape[:2]"
   ]
  },
  {
   "cell_type": "code",
   "execution_count": null,
   "metadata": {},
   "outputs": [],
   "source": [
    "print(f\"{datetime.now().strftime('%d/%m/%Y %H:%M:%S.%f')}\")\n",
    "blob = cv2.dnn.blobFromImage(image,1 / 255.0,(416, 416),swapRB=True, crop=False)\n",
    "print(f\"{datetime.now().strftime('%d/%m/%Y %H:%M:%S.%f')}\")"
   ]
  },
  {
   "cell_type": "code",
   "execution_count": null,
   "metadata": {},
   "outputs": [],
   "source": [
    "net.setInput(blob)\n",
    "outs = net.forward(output_layers)"
   ]
  },
  {
   "cell_type": "code",
   "execution_count": null,
   "metadata": {},
   "outputs": [],
   "source": [
    "net.setInput(blob)\n",
    "outs = net.forward(output_layers)"
   ]
  },
  {
   "cell_type": "code",
   "execution_count": null,
   "metadata": {},
   "outputs": [],
   "source": [
    "for out in outs:\n",
    "    for detection in out:\n",
    "        scores = detection[5:]\n",
    "        class_id = np.argmax(scores)\n",
    "        confidence = scores[class_id]\n",
    "        if confidence > 0.7:\n",
    "            center_x = int(detection[0] * iW)\n",
    "            center_y = int(detection[1] * iH)\n",
    "            w = int(detection[2] * iW)\n",
    "            h = int(detection[3] * iH)\n",
    "            x = center_x - w / 2\n",
    "            y = center_y - h / 2\n",
    "            class_ids.append(class_id)\n",
    "            confidences.append(float(confidence))\n",
    "            boxes.append([x, y, w, h])"
   ]
  },
  {
   "cell_type": "code",
   "execution_count": null,
   "metadata": {},
   "outputs": [],
   "source": [
    "indices = cv2.dnn.NMSBoxes(boxes, confidences, 0.5, 0.4)"
   ]
  },
  {
   "cell_type": "code",
   "execution_count": null,
   "metadata": {},
   "outputs": [],
   "source": [
    "def draw_bounding_box(img, class_id, confidence, x, y, x_plus_w, y_plus_h):\n",
    "    label = str(classes[class_id])+\" (\"+ str(round(confidence*100,2)) +\"%)\"\n",
    "    cv2.rectangle(img, (x, y), (x_plus_w, y_plus_h), colors[class_id], 2)\n",
    "    cv2.putText(img, label, (x-10, y - 10), cv2.FONT_HERSHEY_SIMPLEX, 0.5, colors[class_id], 2)\n",
    "\n",
    "print(f\"{datetime.now().strftime('%d/%m/%Y %H:%M:%S.%f')}\")"
   ]
  },
  {
   "cell_type": "code",
   "execution_count": null,
   "metadata": {},
   "outputs": [],
   "source": [
    "for i in indices:\n",
    "    box = boxes[i]\n",
    "    x = box[0]\n",
    "    y = box[1]\n",
    "    w = box[2]\n",
    "    h = box[3]\n",
    "    ### draw box\n",
    "    draw_bounding_box(image, class_ids[i], confidences[i], round(x), round(y), round(x + w), round(y + h))"
   ]
  },
  {
   "cell_type": "code",
   "execution_count": null,
   "metadata": {},
   "outputs": [],
   "source": [
    "import matplotlib.pyplot as plt\n",
    "output = plt.imshow(cv2.cvtColor(image, cv2.COLOR_BGR2RGB))\n",
    "plt.show()"
   ]
  },
  {
   "cell_type": "code",
   "execution_count": null,
   "metadata": {},
   "outputs": [],
   "source": [
    "# new code\n",
    "modelcfg=\"cfg/yolov4.cfg\"\n",
    "weight=\"Model/yolov4-custom_best.weights\"\n",
    "net=cv2.dnn.readNetFromDarknet(modelcfg,weight)\n",
    "net.setPreferableBackend(cv2.dnn.DNN_BACKEND_CUDA)\n",
    "net.setPreferableTarget(cv2.dnn.DNN_TARGET_CUDA)\n",
    "model = cv2.dnn_DetectionModel(net)\n",
    "model.setInputParams(size=(416, 416), scale=1/255, swapRB=True)\n",
    "layer_names = net.getLayerNames()\n",
    "output_layers = [layer_names[i - 1] for i in net.getUnconnectedOutLayers()]\n",
    "classes = None\n",
    "classes_file = \"data/obj.names\"\n",
    "with open(classes_file, 'r') as f:\n",
    "    classeslabel = [line.strip() for line in f.readlines()]\n",
    "   \n",
    "img=\"../image/demo.png\"\n",
    "# img=\"static/demo.png\"\n",
    "image=cv2.imread(img)\n",
    "(iH, iW) = image.shape[:2]\n",
    "classes, scores, boxes = model.detect(image, 0.5, 0.4)\n",
    "\n",
    "colors={\"with_mask\":(0, 255, 0),\"without_mask\":(0, 0, 255)}\n",
    "\n",
    "for (classid, score, box) in zip(classes, scores, boxes):\n",
    "        color = colors.get(classeslabel[classid])\n",
    "        label = f\"{classeslabel[classid]} ({round(score*100,2)}%)\"\n",
    "        cv2.rectangle(image, box, color, 2)\n",
    "        cv2.putText(image, label, (box[0], box[1]-5), cv2.FONT_HERSHEY_SIMPLEX, 0.5, color, 2)\n",
    "\n",
    "cv2.imshow(\"output\", image)\n",
    "cv2.waitKey()\n",
    "cv2.destroyAllWindows()"
   ]
  }
 ],
 "metadata": {
  "kernelspec": {
   "display_name": "Python 3",
   "language": "python",
   "name": "python3"
  },
  "language_info": {
   "codemirror_mode": {
    "name": "ipython",
    "version": 3
   },
   "file_extension": ".py",
   "mimetype": "text/x-python",
   "name": "python",
   "nbconvert_exporter": "python",
   "pygments_lexer": "ipython3",
   "version": "3.9.13"
  },
  "orig_nbformat": 4,
  "vscode": {
   "interpreter": {
    "hash": "fbe58ca63fe33f9eeae9e71d10368d2b4a57f2b1b395836210cc60d362c66949"
   }
  }
 },
 "nbformat": 4,
 "nbformat_minor": 2
}
